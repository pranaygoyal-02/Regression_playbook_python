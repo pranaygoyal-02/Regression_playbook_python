{
 "cells": [
  {
   "cell_type": "code",
   "execution_count": 2,
   "metadata": {},
   "outputs": [],
   "source": [
    "import numpy as np\n",
    "import pandas as pd"
   ]
  },
  {
   "cell_type": "code",
   "execution_count": null,
   "metadata": {},
   "outputs": [],
   "source": [
    "from sklearn.linear_model import LinearRegression"
   ]
  },
  {
   "attachments": {},
   "cell_type": "markdown",
   "metadata": {},
   "source": [
    "Cntrl + Enter to run and move to next cell; Shift + enter to execute in the current cell\n",
    "Simple Linear Regression With scikit-learn\n",
    "There are five basic steps when you’re implementing linear regression\n",
    "\n",
    "1) Import the packages and classes that you need.\n",
    "2) Provide data to work with, and eventually do appropriate transformations.\n",
    "3) Create a regression model and fit it with existing data.\n",
    "4) Check the results of model fitting to know whether the model is satisfactory.\n",
    "5) Apply the model for predictions."
   ]
  },
  {
   "cell_type": "code",
   "execution_count": 20,
   "metadata": {},
   "outputs": [
    {
     "data": {
      "text/plain": [
       "array([ 5, 15, 25, 35])"
      ]
     },
     "execution_count": 20,
     "metadata": {},
     "output_type": "execute_result"
    }
   ],
   "source": [
    "x = np.array([5, 15, 25, 35 ])\n",
    "x.reshape((-1,1))\n",
    "x"
   ]
  },
  {
   "cell_type": "markdown",
   "metadata": {},
   "source": []
  }
 ],
 "metadata": {
  "kernelspec": {
   "display_name": "forage_env",
   "language": "python",
   "name": "python3"
  },
  "language_info": {
   "codemirror_mode": {
    "name": "ipython",
    "version": 3
   },
   "file_extension": ".py",
   "mimetype": "text/x-python",
   "name": "python",
   "nbconvert_exporter": "python",
   "pygments_lexer": "ipython3",
   "version": "3.11.1"
  },
  "orig_nbformat": 4,
  "vscode": {
   "interpreter": {
    "hash": "6bef6aa455b1aa87c1a9dcbb454285cf2961ea295e3c934f6d2a66220beefdbf"
   }
  }
 },
 "nbformat": 4,
 "nbformat_minor": 2
}
